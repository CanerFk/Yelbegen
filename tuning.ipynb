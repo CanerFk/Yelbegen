{
 "cells": [
  {
   "cell_type": "code",
   "execution_count": null,
   "metadata": {},
   "outputs": [],
   "source": [
    "\n",
    "%cd LLaMA-Factory\n",
    "%ls\n",
    "%pip install torch torchvision torchaudio\n",
    "%pip uninstall -y jax\n",
    "%pip install -e .[torch,bitsandbytes,liger-kernel]"
   ]
  },
  {
   "cell_type": "code",
   "execution_count": null,
   "metadata": {},
   "outputs": [],
   "source": [
    "import torch\n",
    "try:\n",
    "  assert torch.cuda.is_available() is True\n",
    "except AssertionError:\n",
    "  print(\"Please set up a GPU before using LLaMA Factory: https://medium.com/mlearning-ai/training-yolov4-on-google-colab-316f8fff99c6\")"
   ]
  },
  {
   "cell_type": "code",
   "execution_count": null,
   "metadata": {},
   "outputs": [],
   "source": [
    "%pip install datasets\n",
    "import json\n",
    "from datasets import load_dataset\n",
    "ds = load_dataset(\"berraozyurt/llm\")\n",
    "\n",
    "alpaca_data = [{\"instruction\": sample[\"Soru\"], \"input\": \"\", \"output\": sample[\"Cevap\"]} for sample in ds['train']]\n",
    "\n",
    "with open(\"alpaca_format_data.json\", \"w\", encoding=\"utf-8\") as f:\n",
    "    json.dump(alpaca_data, f, indent=2, ensure_ascii=False)\n",
    "\n",
    "print(\"Veri başarıyla 'alpaca_format_data.json' dosyasına kaydedildi.\")\n"
   ]
  },
  {
   "cell_type": "code",
   "execution_count": null,
   "metadata": {},
   "outputs": [],
   "source": [
    "%cd /LLaMA-Factory/"
   ]
  },
  {
   "cell_type": "code",
   "execution_count": null,
   "metadata": {},
   "outputs": [],
   "source": [
    "!GRADIO_SHARE=1 llamafactory-cli webui"
   ]
  },
  {
   "cell_type": "code",
   "execution_count": null,
   "metadata": {},
   "outputs": [],
   "source": [
    "\"\"\"\n",
    "# KULLANILAN PARAMETRELER:\n",
    "cutoff_len: 1024\n",
    "dataset: soru_cevap\n",
    "dataset_dir: data\n",
    "ddp_timeout: 180000000\n",
    "do_train: true\n",
    "finetuning_type: lora\n",
    "flash_attn: auto\n",
    "fp16: true\n",
    "gradient_accumulation_steps: 8\n",
    "include_num_input_tokens_seen: true\n",
    "learning_rate: 5.0e-05\n",
    "logging_steps: 5\n",
    "lora_alpha: 16\n",
    "lora_dropout: 0\n",
    "lora_rank: 8\n",
    "lora_target: all\n",
    "lr_scheduler_type: cosine\n",
    "max_grad_norm: 1.0\n",
    "max_samples: 100000\n",
    "model_name_or_path: t3ai-org/pt-model\n",
    "num_train_epochs: 3.0\n",
    "optim: adamw_torch\n",
    "output_dir: saves/Custom/lora/train_2024-09-07-01-36-27\n",
    "packing: false\n",
    "per_device_train_batch_size: 8\n",
    "plot_loss: true\n",
    "pref_beta: 0.1\n",
    "pref_ftx: 0\n",
    "pref_loss: sigmoid\n",
    "preprocessing_num_workers: 16\n",
    "report_to: none\n",
    "save_steps: 1000\n",
    "stage: kto\n",
    "template: default\n",
    "warmup_steps: 0\n",
    "\"\"\""
   ]
  }
 ],
 "metadata": {
  "kernelspec": {
   "display_name": "newenv",
   "language": "python",
   "name": "python3"
  },
  "language_info": {
   "codemirror_mode": {
    "name": "ipython",
    "version": 3
   },
   "file_extension": ".py",
   "mimetype": "text/x-python",
   "name": "python",
   "nbconvert_exporter": "python",
   "pygments_lexer": "ipython3",
   "version": "3.10.14"
  },
  "orig_nbformat": 4
 },
 "nbformat": 4,
 "nbformat_minor": 2
}
